{
 "cells": [
  {
   "cell_type": "code",
   "execution_count": 203,
   "id": "8bb15cc0",
   "metadata": {},
   "outputs": [
    {
     "name": "stdout",
     "output_type": "stream",
     "text": [
      "['Pulse Oximeter', 'Blood Warmer', 'C-Pap Machine', 'ECG Machine', 'HFNC Machine', 'Infusion Pump', 'NIBP Monitor']\n",
      "['NML903055', 'NML903090', 'NML903105', 'NML903060', 'NML903095', 'NML903065', 'NML903050']\n",
      "['34683', '34641', '34662', '34690', '34648', '34697', '34676']\n",
      "['4', '1', '1', '9', '5', '10', '5']\n"
     ]
    }
   ],
   "source": [
    "from PIL import Image\n",
    "import cv2 as cv\n",
    "pytesseract.tesseract_cmd = path_to_tesseract\n",
    "dev_name=[]\n",
    "ref=[]\n",
    "lot=[]\n",
    "qty=[]\n",
    "for image in glob.iglob(f'images/*'):\n",
    "    img_path=image\n",
    "    im = Image.open(image)\n",
    "    width, height = im.size\n",
    "    im1 = im.crop((120, 80, 800, 400))\n",
    "    im2 = im.crop((1100, 180, 1370, 300))\n",
    "    text1 = pytesseract.image_to_string(im1)\n",
    "    text1 = text1.split()\n",
    "    text2 = pytesseract.image_to_string(im2)\n",
    "    text2 = text2.split()\n",
    "    dev_name.append(text1[3]+\" \"+text1[4])\n",
    "    ref.append(text1[6])\n",
    "    lot.append(text1[8])\n",
    "    qty.append(text2[1])\n",
    "print(dev_name)\n",
    "print(ref)\n",
    "print(lot)\n",
    "print(qty)"
   ]
  },
  {
   "cell_type": "code",
   "execution_count": 204,
   "id": "02f87bb1",
   "metadata": {},
   "outputs": [
    {
     "name": "stdout",
     "output_type": "stream",
     "text": [
      "['2369', '1', '15789', '2578', '1289', '2589', '417']\n"
     ]
    }
   ],
   "source": [
    "#SYMBOLS_LIST\n",
    "import glob\n",
    "import cv2 as cv\n",
    "import numpy as np\n",
    "from matplotlib import pyplot as plt\n",
    "from functools import reduce\n",
    "symb=[]\n",
    "for image in glob.iglob(f'images/*'):\n",
    "    img_path=image\n",
    "    lst=[]    \n",
    "    tem_path=r\"symbols\\4.png\"\n",
    "    img_rgb = cv.imread(img_path)\n",
    "    img_gray = cv.cvtColor(img_rgb, cv.COLOR_BGR2GRAY)\n",
    "    template = cv.imread(tem_path,0)\n",
    "    w, h = template.shape[::-1]\n",
    "    res = cv.matchTemplate(img_gray,template,cv.TM_CCOEFF_NORMED)\n",
    "    threshold = 0.7\n",
    "    loc = np.where( res >= threshold)\n",
    "    out=0\n",
    "    for pt in zip(*loc[::-1]):\n",
    "        cv.rectangle(img_rgb, pt, (pt[0] + w, pt[1] + h), (0,0,255), 2)\n",
    "        out=1\n",
    "    if out==1:\n",
    "        lst.append(4)\n",
    "    i=0\n",
    "    for symbol in glob.iglob(f'symbols/*'):\n",
    "        i+=1\n",
    "        if i==4:\n",
    "            continue\n",
    "        tem_path=symbol\n",
    "        img_rgb = cv.imread(img_path)\n",
    "        img_gray = cv.cvtColor(img_rgb, cv.COLOR_BGR2GRAY)\n",
    "        template = cv.imread(tem_path,0)\n",
    "        w, h = template.shape[::-1]\n",
    "        res = cv.matchTemplate(img_gray,template,cv.TM_CCOEFF_NORMED)\n",
    "        threshold = 0.7\n",
    "        loc = np.where( res >= threshold)\n",
    "        out=0\n",
    "        for pt in zip(*loc[::-1]):\n",
    "            cv.rectangle(img_rgb, pt, (pt[0] + w, pt[1] + h), (0,0,255), 2)\n",
    "            out=1\n",
    "        if out==1:\n",
    "            lst.append(i)\n",
    "    ele = reduce(lambda a, b : str(a)+ \" \" +str(b), lst)\n",
    "    symb.append(ele)\n",
    "    for i in range(len(symb)):\n",
    "        symb[i]=str(symb[i])\n",
    "        symb[i]=symb[i].replace(\" \", \"\")\n",
    "print(symb)"
   ]
  },
  {
   "cell_type": "code",
   "execution_count": 205,
   "id": "63e6c34e",
   "metadata": {},
   "outputs": [
    {
     "name": "stdout",
     "output_type": "stream",
     "text": [
      "      Device Name        REF    LOT Qty Symbols\n",
      "0  Pulse Oximeter  NML903055  34683   4    2369\n",
      "1    Blood Warmer  NML903090  34641   1       1\n",
      "2   C-Pap Machine  NML903105  34662   1   15789\n",
      "3     ECG Machine  NML903060  34690   9    2578\n",
      "4    HFNC Machine  NML903095  34648   5    1289\n",
      "5   Infusion Pump  NML903065  34697  10    2589\n",
      "6    NIBP Monitor  NML903050  34676   5     417\n"
     ]
    }
   ],
   "source": [
    "import pandas as pd\n",
    "import numpy as np\n",
    "\n",
    "technologies= {\n",
    "    'Device Name':dev_name,\n",
    "    'REF' :ref,\n",
    "    'LOT' :lot,\n",
    "    'Qty':qty,\n",
    "    'Symbols':symb\n",
    "          }\n",
    "\n",
    "df = pd.DataFrame(technologies)\n",
    "print(df)\n",
    "df.to_csv('Final_Output.csv')"
   ]
  }
 ],
 "metadata": {
  "kernelspec": {
   "display_name": "Python 3 (ipykernel)",
   "language": "python",
   "name": "python3"
  },
  "language_info": {
   "codemirror_mode": {
    "name": "ipython",
    "version": 3
   },
   "file_extension": ".py",
   "mimetype": "text/x-python",
   "name": "python",
   "nbconvert_exporter": "python",
   "pygments_lexer": "ipython3",
   "version": "3.9.7"
  }
 },
 "nbformat": 4,
 "nbformat_minor": 5
}
